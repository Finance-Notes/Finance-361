{
  "cells": [
    {
      "cell_type": "markdown",
      "metadata": {
        "id": "HbN_MgDIao8B"
      },
      "source": [
        "# **FINANCE 361**\n",
        "\n",
        "**Lecture 1**\n",
        "\n",
        "## **Monte-Carlo Analysis of Stock Prices**\n",
        "\n",
        "(The following Python code is non-examinable)"
      ]
    },
    {
      "cell_type": "markdown",
      "metadata": {
        "id": "4IF9QN7qb4hf"
      },
      "source": [
        "This notebook uses the Monte Carlo method to simulate the future price movements of selected stocks. The simulation illustrates the uncertainty inherent in financial markets, generating a wide range of potential outcomes based on historical price volatility and returns."
      ]
    },
    {
      "cell_type": "markdown",
      "metadata": {
        "id": "igsfsBsEbN-k"
      },
      "source": [
        "### **Preliminary Step #1**\n",
        "\n",
        "\n",
        "*   Install the yfinance Python package\n",
        "  *   To download market data from Yahoo! Finance API\n",
        "  *   See: https://pypi.org/project/yfinance/\n"
      ]
    },
    {
      "cell_type": "code",
      "execution_count": null,
      "metadata": {
        "id": "I4fh17h_cCyU"
      },
      "outputs": [],
      "source": [
        "pip install yfinance"
      ]
    },
    {
      "cell_type": "markdown",
      "metadata": {
        "id": "VNnHVosIcMTA"
      },
      "source": [
        "### **Preliminary Step #2**\n",
        "\n",
        "\n",
        "\n",
        "*   Import the required packages into Python for our simulations\n",
        "  * Numpy:  https://numpy.org\n",
        "  * Pandas: https://pandas.pydata.org\n",
        "  * Matplotlib: https://matplotlib.org\n"
      ]
    },
    {
      "cell_type": "code",
      "execution_count": null,
      "metadata": {
        "id": "XnLdq0J3zLq4"
      },
      "outputs": [],
      "source": [
        "import numpy as np\n",
        "import pandas as pd\n",
        "import matplotlib.pyplot as plt\n",
        "import yfinance as yf\n",
        "\n",
        "np.random.seed(0)"
      ]
    },
    {
      "cell_type": "markdown",
      "metadata": {
        "id": "oFtaskujflYS"
      },
      "source": [
        "### **Step 0: Define the parameters**\n",
        "\n",
        "Defining our parameters now ensures that everything is consistent for the remainder of the script."
      ]
    },
    {
      "cell_type": "code",
      "execution_count": 3,
      "metadata": {
        "id": "IloGh_6egBMY"
      },
      "outputs": [],
      "source": [
        "# Step 0: Define the parameters for the Monte Carlo simulation\n",
        "\n",
        "NUM_SIMULATIONS = 50        # Defining the number of Monte Carlo simulations\n",
        "\n",
        "NUM_DAYS_HISTORY = 252      # Approximate number of trading days in a year\n",
        "\n",
        "NUM_DAYS_FORECAST = 132     # Approximate number of trading days in a month"
      ]
    },
    {
      "cell_type": "markdown",
      "metadata": {
        "id": "M8XNI4Avd20h"
      },
      "source": [
        "### **Step 1: Retrieve historical stock data for Apple (AAPL)**\n",
        "\n",
        "We'll retrieve 252 trading days, which is approximately 1 year."
      ]
    },
    {
      "cell_type": "code",
      "execution_count": null,
      "metadata": {
        "id": "un4aVKv40Bo5"
      },
      "outputs": [],
      "source": [
        "# Step 1: Retrieve historical stock data for Apple (AAPL)\n",
        "\n",
        "ticker = 'AAPL'\n",
        "data = yf.download(ticker, period=str(NUM_DAYS_HISTORY)+'d', interval='1d')\n",
        "\n",
        "data"
      ]
    },
    {
      "cell_type": "markdown",
      "metadata": {
        "id": "xfFGbG-1eUHP"
      },
      "source": [
        "Step 1.1: Plotting the historical price data"
      ]
    },
    {
      "cell_type": "code",
      "execution_count": null,
      "metadata": {
        "id": "eryr6pubz2R6"
      },
      "outputs": [],
      "source": [
        "# Plot settings\n",
        "fig, ax = plt.subplots(figsize=(14, 7))\n",
        "plt.title('Monte Carlo Simulations of AAPL Stock Price (1 Year Historical & 6 Months Forecast)')\n",
        "plt.xlabel('Date')\n",
        "plt.ylabel('Price ($)')\n",
        "plt.legend()\n",
        "plt.tight_layout()\n",
        "\n",
        "# Historical prices\n",
        "historical_days = data.index[:]\n",
        "historical_prices = data['Adj Close'][:]\n",
        "ax.plot(historical_days, historical_prices, color='black', label='Historical Price')\n",
        "\n",
        "# Forecast dates\n",
        "last_day = historical_days[-1]\n",
        "forecast_dates = pd.date_range(start=last_day, periods=NUM_DAYS_FORECAST + 1, closed='right')\n",
        "\n",
        "ax.set_xlim([historical_days[0], forecast_dates[-1]])\n",
        "ax.set_ylim([100, 300])\n",
        "\n",
        "plt"
      ]
    },
    {
      "cell_type": "markdown",
      "metadata": {
        "id": "wkLe6LMqkWbi"
      },
      "source": [
        "### **Step 2: Calculate the daily returns of the stock**"
      ]
    },
    {
      "cell_type": "code",
      "execution_count": 7,
      "metadata": {
        "id": "ShbMhuez0KU3"
      },
      "outputs": [],
      "source": [
        "# Step 2: Calculate the daily returns of the stock\n",
        "daily_returns = np.log(data['Adj Close']/(data['Adj Close'].shift(1))).dropna()\n",
        "\n",
        "# Calculate the mean and standard deviation of the daily returns\n",
        "mean_daily_return = daily_returns.mean()\n",
        "std_dev_daily_return = daily_returns.std()\n",
        "\n",
        "# Calculate the mean and standard deviation of the annual returns\n",
        "mean_annual_return = (1+daily_returns.mean())**252-1\n",
        "std_dev_annual_return = daily_returns.std()*np.sqrt(252)"
      ]
    },
    {
      "cell_type": "markdown",
      "metadata": {
        "id": "wzEd4Rp4qHO1"
      },
      "source": [
        "Step 2.1: Print the mean return and standard deviation values\n"
      ]
    },
    {
      "cell_type": "code",
      "execution_count": null,
      "metadata": {
        "id": "pRbYQXZfqFpu"
      },
      "outputs": [],
      "source": [
        "print(f\"Mean daily return:                  {mean_daily_return:.2f}\")\n",
        "print(f\"Daily standard deviation:           {std_dev_daily_return:.2f}\")\n",
        "\n",
        "print('\\n')\n",
        "print(f\"Mean annual return:                 {mean_annual_return:.2f}\")\n",
        "print(f\"Annual standard deviation:          {std_dev_annual_return:.2f}\")"
      ]
    },
    {
      "cell_type": "markdown",
      "metadata": {
        "id": "wnWt9HE9knWl"
      },
      "source": [
        "### **Step 3: Perform Monte Carlo simulation**\n"
      ]
    },
    {
      "cell_type": "code",
      "execution_count": 10,
      "metadata": {
        "id": "FYCtsSoP0b6-"
      },
      "outputs": [],
      "source": [
        "# Step 3: Perform Monte Carlo simulation\n",
        "\n",
        "# Initialize an empty array to store the simulation results\n",
        "monte_carlo_simulations = np.zeros((NUM_SIMULATIONS, NUM_DAYS_FORECAST))\n",
        "\n",
        "# Generate the simulations\n",
        "for n in range(NUM_SIMULATIONS):\n",
        "    monte_carlo_simulations[n, 0] = data['Adj Close'].iloc[-1]\n",
        "    for i in range(1, NUM_DAYS_FORECAST):\n",
        "        random_daily_return = np.random.normal(mean_daily_return, std_dev_daily_return)\n",
        "        monte_carlo_simulations[n, i] = monte_carlo_simulations[n, i-1] * (1 + random_daily_return)"
      ]
    },
    {
      "cell_type": "markdown",
      "metadata": {
        "id": "8w_3qTrlkxJu"
      },
      "source": [
        "### **Step 4: Plot the simulation results**"
      ]
    },
    {
      "cell_type": "code",
      "execution_count": null,
      "metadata": {
        "id": "QeicfoCd0iMi"
      },
      "outputs": [],
      "source": [
        "# Step 4: Plot the simulation results\n",
        "fig, ax = plt.subplots(figsize=(14, 7))\n",
        "plt.title('Monte Carlo Simulations of AAPL Stock Price (1 Year Historical & 6 Months Forecast)')\n",
        "plt.xlabel('Date')\n",
        "plt.ylabel('Price ($)')\n",
        "plt.legend()\n",
        "plt.tight_layout()\n",
        "\n",
        "# Historical prices\n",
        "plt.plot(historical_days, historical_prices, color='black', label='Historical Price')\n",
        "\n",
        "# Plot each simulation path\n",
        "for n in range(NUM_SIMULATIONS):\n",
        "    plt.plot(forecast_dates, monte_carlo_simulations[n, :], color='blue', alpha=0.1)\n",
        "\n",
        "# Plotting the mean of the simulations\n",
        "mean_simulation = np.mean(monte_carlo_simulations, axis=0)\n",
        "plt.plot(forecast_dates, mean_simulation, color='red', linewidth=2, label='Mean Simulation')\n",
        "\n",
        "ax.set_xlim([historical_days[0], forecast_dates[-1]])\n",
        "ax.set_ylim([100, 300])\n",
        "\n",
        "# Optionally, you can calculate the mean expected price at the end of the month\n",
        "expected_price = np.mean(monte_carlo_simulations[:, -1])\n",
        "print(f\"Expected price at the end of 6 months: ${expected_price:.2f}\")"
      ]
    },
    {
      "cell_type": "markdown",
      "metadata": {
        "id": "2wCQf__KlWOB"
      },
      "source": [
        "### **Step 5: Next steps (in class)**\n",
        "\n",
        "Extending the Monte Carlo simulation\n",
        "\n",
        "*   What do we learn about the risk-return characteristics from our simulation?\n",
        "  * How can we plot these characteristics intuitively?\n",
        "*   What are the limitations/assumptions regarding the Monte-Carlo simulation?\n",
        "*   How can we extend the simulation to multiple stocks, and what are the drawbacks of this approach?\n",
        "  * I.e. Why do we need modern portfolio theory?\n",
        "\n",
        "\n",
        "\n",
        "---\n",
        "\n",
        "Additionally,\n",
        "\n",
        "* What can we say from our simulations regarding behavioral finance?\n",
        "* How does machine learning relate to our simulation model?"
      ]
    },
    {
      "cell_type": "markdown",
      "metadata": {
        "id": "33nDyjTTNKDE"
      },
      "source": [
        "\n",
        "\n",
        "---\n",
        "\n"
      ]
    },
    {
      "cell_type": "code",
      "execution_count": 12,
      "metadata": {
        "id": "EpfPh5BysmNX"
      },
      "outputs": [],
      "source": [
        "# Create a histogram of daily returns\n",
        "counts, bins = np.histogram(daily_returns, bins=50)"
      ]
    },
    {
      "cell_type": "code",
      "execution_count": 13,
      "metadata": {
        "id": "7o081oduNEPH"
      },
      "outputs": [],
      "source": [
        "# probability density function - Normal dist.\n",
        "mu = mean_daily_return\n",
        "sigma = std_dev_daily_return\n",
        "x = bins\n",
        "pdf = 1 / (sigma * np.sqrt(2 * np.pi)) * np.exp(- (x - mu)**2 / (2 * sigma**2))"
      ]
    },
    {
      "cell_type": "code",
      "execution_count": null,
      "metadata": {
        "id": "07JnVNYXtJ_W"
      },
      "outputs": [],
      "source": [
        "# Create a Matplotlib plot\n",
        "fig, ax = plt.subplots(figsize=(14, 7))\n",
        "ax.hist(daily_returns, bins, density=True, alpha=0.6, color='b')\n",
        "ax.plot(bins, pdf, linewidth=2, color='r')\n",
        "plt.show()"
      ]
    },
    {
      "cell_type": "markdown",
      "metadata": {
        "id": "Zeh88iLySraj"
      },
      "source": [
        "\n",
        "\n",
        "---\n",
        "\n"
      ]
    },
    {
      "cell_type": "code",
      "execution_count": 15,
      "metadata": {
        "colab": {
          "base_uri": "https://localhost:8080/"
        },
        "id": "-dSoRH2O2TES",
        "outputId": "296a3fdb-5651-4308-d068-b5db8cfe3ee3"
      },
      "outputs": [
        {
          "name": "stderr",
          "output_type": "stream",
          "text": [
            "[*********************100%%**********************]  1 of 1 completed\n",
            "[*********************100%%**********************]  1 of 1 completed\n"
          ]
        }
      ],
      "source": [
        "aapl = yf.download('AAPL', period=str(NUM_DAYS_HISTORY)+'d', interval='1d')\n",
        "gme = yf.download('GME', period=str(NUM_DAYS_HISTORY)+'d', interval='1d')"
      ]
    },
    {
      "cell_type": "code",
      "execution_count": 16,
      "metadata": {
        "id": "kb5a1oDINI2L"
      },
      "outputs": [],
      "source": [
        "df_portfolio = pd.DataFrame()\n",
        "df_portfolio['AAPL Adj Close'] = aapl['Adj Close']\n",
        "df_portfolio['GME Adj Close'] = gme['Adj Close']"
      ]
    },
    {
      "cell_type": "code",
      "execution_count": null,
      "metadata": {
        "id": "YnLfA4-INKeK"
      },
      "outputs": [],
      "source": [
        "stocks_aapl = 1\n",
        "stocks_gme = 5\n",
        "\n",
        "df_portfolio['Portfolio'] = stocks_aapl*df_portfolio['AAPL Adj Close'] + stocks_gme*df_portfolio['GME Adj Close']\n",
        "df_portfolio"
      ]
    },
    {
      "cell_type": "code",
      "execution_count": null,
      "metadata": {
        "id": "KP_ey6xgQkEo"
      },
      "outputs": [],
      "source": [
        "# Plot settings\n",
        "fig, ax = plt.subplots(figsize=(14, 7))\n",
        "plt.title('Monte Carlo Simulations of AAPL Stock Price (1 Year Historical & 6 Months Forecast)')\n",
        "plt.xlabel('Date')\n",
        "plt.ylabel('Price ($)')\n",
        "plt.legend()\n",
        "plt.tight_layout()\n",
        "\n",
        "# Historical prices\n",
        "historical_days = data.index[:]\n",
        "historical_prices = df_portfolio['Portfolio'][:]\n",
        "ax.plot(historical_days, historical_prices, color='black', label='Historical Price')\n",
        "\n",
        "# Forecast dates\n",
        "last_day = historical_days[-1]\n",
        "forecast_dates = pd.date_range(start=last_day, periods=NUM_DAYS_FORECAST + 1, closed='right')\n",
        "\n",
        "ax.set_xlim([historical_days[0], forecast_dates[-1]])\n",
        "# ax.set_ylim([100, 300])\n",
        "\n",
        "plt"
      ]
    },
    {
      "cell_type": "code",
      "execution_count": null,
      "metadata": {
        "id": "8eRB4kMWOPZj"
      },
      "outputs": [],
      "source": [
        "# Step 2: Calculate the daily returns of the stock\n",
        "daily_returns = np.log(df_portfolio['Portfolio']/(df_portfolio['Portfolio'].shift(1))).dropna()\n",
        "\n",
        "# Calculate the mean and standard deviation of the daily returns\n",
        "mean_daily_return = daily_returns.mean()\n",
        "std_dev_daily_return = daily_returns.std()\n",
        "\n",
        "# Calculate the mean and standard deviation of the annual returns\n",
        "mean_annual_return = (1+daily_returns.mean())**252-1\n",
        "std_dev_annual_return = daily_returns.std()*np.sqrt(252)\n",
        "\n",
        "print(f\"Mean daily return:                  {mean_daily_return:.2f}\")\n",
        "print(f\"Daily standard deviation:           {std_dev_daily_return:.2f}\")\n",
        "\n",
        "print('\\n')\n",
        "print(f\"Mean annual return:                 {mean_annual_return:.2f}\")\n",
        "print(f\"Annual standard deviation:          {std_dev_annual_return:.2f}\")"
      ]
    },
    {
      "cell_type": "code",
      "execution_count": 20,
      "metadata": {
        "id": "eoWy27B8P-2h"
      },
      "outputs": [],
      "source": [
        "# Step 3: Perform Monte Carlo simulation\n",
        "\n",
        "# Initialize an empty array to store the simulation results\n",
        "monte_carlo_simulations = np.zeros((NUM_SIMULATIONS, NUM_DAYS_FORECAST))\n",
        "\n",
        "# Generate the simulations\n",
        "for n in range(NUM_SIMULATIONS):\n",
        "    monte_carlo_simulations[n, 0] = df_portfolio['Portfolio'].iloc[-1]\n",
        "    for i in range(1, NUM_DAYS_FORECAST):\n",
        "        random_daily_return = np.random.normal(mean_daily_return, std_dev_daily_return)\n",
        "        monte_carlo_simulations[n, i] = monte_carlo_simulations[n, i-1] * (1 + random_daily_return)"
      ]
    },
    {
      "cell_type": "code",
      "execution_count": null,
      "metadata": {
        "id": "qjzbBu5VQNsO"
      },
      "outputs": [],
      "source": [
        "# Step 4: Plot the simulation results\n",
        "fig, ax = plt.subplots(figsize=(14, 7))\n",
        "plt.title('Monte Carlo Simulations of Portfolio Stock Price (1 Year Historical & 6 Months Forecast)')\n",
        "plt.xlabel('Date')\n",
        "plt.ylabel('Price ($)')\n",
        "plt.legend()\n",
        "plt.tight_layout()\n",
        "\n",
        "# Historical prices\n",
        "plt.plot(historical_days, historical_prices, color='black', label='Historical Price')\n",
        "\n",
        "# Plot each simulation path\n",
        "for n in range(NUM_SIMULATIONS):\n",
        "    plt.plot(forecast_dates, monte_carlo_simulations[n, :], color='blue', alpha=0.1)\n",
        "\n",
        "# Plotting the mean of the simulations\n",
        "mean_simulation = np.mean(monte_carlo_simulations, axis=0)\n",
        "plt.plot(forecast_dates, mean_simulation, color='red', linewidth=2, label='Mean Simulation')\n",
        "\n",
        "ax.set_xlim([historical_days[0], forecast_dates[-1]])\n",
        "#ax.set_ylim([100, 300])\n",
        "\n",
        "# Optionally, you can calculate the mean expected price at the end of the month\n",
        "expected_price = np.mean(monte_carlo_simulations[:, -1])\n",
        "print(f\"Expected price at the end of 6 months: ${expected_price:.2f}\")"
      ]
    },
    {
      "cell_type": "code",
      "execution_count": null,
      "metadata": {
        "id": "B9699w7LQYb5"
      },
      "outputs": [],
      "source": []
    }
  ],
  "metadata": {
    "colab": {
      "collapsed_sections": [
        "igsfsBsEbN-k",
        "VNnHVosIcMTA"
      ],
      "provenance": []
    },
    "kernelspec": {
      "display_name": "Python 3",
      "name": "python3"
    },
    "language_info": {
      "name": "python"
    }
  },
  "nbformat": 4,
  "nbformat_minor": 0
}
