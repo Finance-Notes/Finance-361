{
  "nbformat": 4,
  "nbformat_minor": 0,
  "metadata": {
    "colab": {
      "provenance": []
    },
    "kernelspec": {
      "name": "python3",
      "display_name": "Python 3"
    },
    "language_info": {
      "name": "python"
    }
  },
  "cells": [
    {
      "cell_type": "markdown",
      "source": [
        "# **FINANCE 361**\n",
        "\n",
        "**Lecture 5**\n",
        "\n",
        "## **Thought Experiments, Behavioral Biases, Rational Expectations**\n",
        "\n",
        "(The following Python code is non-examinable)"
      ],
      "metadata": {
        "id": "JNZ1sS1BDE-g"
      }
    },
    {
      "cell_type": "markdown",
      "source": [
        "\n",
        "\n",
        "---\n",
        "\n"
      ],
      "metadata": {
        "id": "N9HaeyjYIcWk"
      }
    },
    {
      "cell_type": "markdown",
      "source": [
        "### **Part 1:  A thought experiment**"
      ],
      "metadata": {
        "id": "LVO2u7g4DUd7"
      }
    },
    {
      "cell_type": "markdown",
      "source": [
        "\"*The Survivorship Bias in Random Markets*\"\n",
        "\n",
        "Consider a random market, where outcomes of investments can be as unpredictable as a coin flip.\n",
        "\n",
        "    In this situation, trading has a 50% chance of making or losing money.\n",
        "\n",
        "The following script simulates 10,000 fund managers, each with a 50% chance of making $10,000 in a year and a 50% chance of losing the same amount.\n",
        "\n",
        "After each year, managers who lose money are removed from the pool. We will simulate this process over five years to observe how the number of managers decreases."
      ],
      "metadata": {
        "id": "Wc8M8dBWEx8s"
      }
    },
    {
      "cell_type": "code",
      "execution_count": null,
      "metadata": {
        "colab": {
          "base_uri": "https://localhost:8080/"
        },
        "id": "S4Z2qy58CEPH",
        "outputId": "1bd25765-d1e6-4ec9-ca78-7fb1f211dc98"
      },
      "outputs": [
        {
          "output_type": "stream",
          "name": "stdout",
          "text": [
            "Managers remaining each year      [10000, 5000, 2500, 1250, 625, 312]\n"
          ]
        }
      ],
      "source": [
        "# Initial number of managers\n",
        "managers = 10000\n",
        "\n",
        "# Chance of making $10,000 in a year\n",
        "success_probability = 0.5  # 50% chance, can be adjusted\n",
        "\n",
        "# List to keep track of the number of managers remaining each year\n",
        "managers_remaining = [managers]\n",
        "\n",
        "# Simulate for 5 years\n",
        "for year in range(1, 6):\n",
        "    # Each year, a certain percentage of the managers make money and stay, the rest are removed\n",
        "    successful_managers = int(managers * success_probability)\n",
        "    managers = successful_managers\n",
        "    managers_remaining.append(managers)\n",
        "\n",
        "# Output the number of managers remaining at the end of each year\n",
        "print('Managers remaining each year     ', managers_remaining)"
      ]
    },
    {
      "cell_type": "markdown",
      "source": [
        "What does this illustrate?\n",
        "\n",
        "Survivorship Bias:\n",
        "\n",
        "*   In real-world financial markets, we often hear about the winners (the survivors) and seldom about those who don't make it. This can create a misleading narrative that success in the market is purely based on skill.\n",
        "* Where else do we see survivorship bias in markets?\n"
      ],
      "metadata": {
        "id": "rQ10UzKNHaja"
      }
    },
    {
      "cell_type": "markdown",
      "source": [
        "Are markets random?\n",
        "\n",
        "*   Not all market success is due to skill; being in the market matters.\n",
        "\n",
        "\n",
        "Charlie Munger “Really good investment opportunities aren’t going to come along too often and won’t last too long, so you’ve got to be ready to act. Have a prepared mind.”\n",
        "\n"
      ],
      "metadata": {
        "id": "eJd2AqBHIFgq"
      }
    },
    {
      "cell_type": "markdown",
      "source": [
        "\n",
        "\n",
        "---"
      ],
      "metadata": {
        "id": "7MOkjFI8JuxS"
      }
    },
    {
      "cell_type": "markdown",
      "source": [
        "### **Part 2:  Simulating Behavioral Biases**"
      ],
      "metadata": {
        "id": "ef15dR0VJ9n2"
      }
    },
    {
      "cell_type": "markdown",
      "source": [
        "Behavioral biases are systematic patterns of deviation from rationality in judgment.\n"
      ],
      "metadata": {
        "id": "xanHQWZ3QB2n"
      }
    },
    {
      "cell_type": "markdown",
      "source": [
        "#### Loss Aversion\n"
      ],
      "metadata": {
        "id": "rwKnKovVQ8Bn"
      }
    },
    {
      "cell_type": "markdown",
      "source": [
        "Samuelson, P. (1963). Risk and uncertainty: A fallacy of large numbers.\n",
        "\n",
        "Samuelson offers a colleague the following bet:\n",
        "\n",
        "    A 50 percent chance to win $200 and a 50 percent chance to lose $100.\n",
        "\n",
        "The colleague turns down the bet but announces that he is happy to accept 100 such bets, with the reasoning that “I won’t bet because I would feel the $\\$100$ loss more than the $\\$200$ gain.”"
      ],
      "metadata": {
        "id": "Pd5PtayQRUXW"
      }
    },
    {
      "cell_type": "code",
      "source": [
        "import numpy as np\n",
        "\n",
        "# Set the seed for reproducibility\n",
        "np.random.seed(0)\n",
        "\n",
        "# Function to simulate a single bet\n",
        "def simulate_bet():\n",
        "    # 50% chance to win $200, 50% chance to lose $100\n",
        "    return 200 if np.random.rand() < 0.5 else -100\n",
        "\n",
        "# Simulate a single bet\n",
        "single_bet_result = simulate_bet()\n",
        "\n",
        "print('Result of the single bet    ', single_bet_result)\n",
        "\n",
        "# Function to simulate 100 bets\n",
        "def simulate_multiple_bets(n):\n",
        "    results = [simulate_bet() for _ in range(n)]\n",
        "    return sum(results), np.mean(results)\n",
        "\n",
        "# Simulate 100 bets\n",
        "total_gain_100_bets, average_gain_per_bet = simulate_multiple_bets(100)\n",
        "\n",
        "print('Result of 100 bets          ', total_gain_100_bets, '\\n'\n",
        "      'Average gain per bet        ', average_gain_per_bet)"
      ],
      "metadata": {
        "colab": {
          "base_uri": "https://localhost:8080/"
        },
        "id": "XN39B94MRU2Y",
        "outputId": "8efd12ca-fd09-43d0-927a-10b3f46fe1c8"
      },
      "execution_count": null,
      "outputs": [
        {
          "output_type": "stream",
          "name": "stdout",
          "text": [
            "Result of the single bet     -100\n",
            "Result of 100 bets           5300 \n",
            "Average gain per bet         53.0\n"
          ]
        }
      ]
    },
    {
      "cell_type": "markdown",
      "source": [
        "A simple utility function that captures the willingness of Samuelson’s colleague to turn down the stated bet is:\n",
        "\n",
        "$$\n",
        "U(x) =\n",
        "\\begin{cases}\n",
        "x & \\text{if } x \\geq 0 \\\\\n",
        "2.5x & \\text{if } x < 0,\n",
        "\\end{cases}\n",
        "$$\n",
        "\n",
        "where \\(x\\) is a change in wealth relative to a reference level."
      ],
      "metadata": {
        "id": "QUwwlsCIVHcO"
      }
    },
    {
      "cell_type": "markdown",
      "source": [
        "This subjective overweighting of the loss is in contrast to the objective assessment of a `rational' investor."
      ],
      "metadata": {
        "id": "p-yRQJamWS5x"
      }
    },
    {
      "cell_type": "markdown",
      "source": [
        "#### Mental Accounting"
      ],
      "metadata": {
        "id": "Pnen5L0PYxQH"
      }
    },
    {
      "cell_type": "markdown",
      "source": [
        "In the example by Samuelson (1963), the appeal of engaging in multiple bets is contingent upon the mental accounting principles applied.\n",
        "\n",
        "Consider,\n",
        "\n",
        "*   Treating each bet as an independent event amplifies the perceived negativity, making two instances of the gamble doubly undesirable compared to a solitary bet.\n",
        "\n",
        "\n",
        "*   When the wagers are aggregated into a collective portfolio, the combined proposition of two bets—characterized by outcomes of\n",
        "\n",
        "    $400 with a probability of 0.25;\n",
        "\n",
        "    $100 with a probability of 0.50; and\n",
        "\n",
        "    -$200 with a probability of 0.25\n",
        "\n",
        "    —manifests positive expected utility in light of the utility function we've hypothesized.\n",
        "\n",
        "  \n",
        "\n"
      ],
      "metadata": {
        "id": "GbEk9S8bY96v"
      }
    },
    {
      "cell_type": "code",
      "source": [
        "# Loss aversion coefficient\n",
        "lambda_loss_aversion = 2.5\n",
        "\n",
        "def adjusted_outcome(x):\n",
        "  # Positive changes in wealth\n",
        "  if x >= 0:\n",
        "    return x\n",
        "  # Negative changes in wealth, applying loss aversion\n",
        "  else:\n",
        "    return lambda_loss_aversion * x\n",
        "\n",
        "\n",
        "# Single bet outcomes and probabilities\n",
        "single_bet_outcomes = [200, -100]           # +$200 or -$100\n",
        "single_bet_probabilities = [0.5, 0.5]\n",
        "\n",
        "# Two-bet parlay outcomes and probabilities\n",
        "two_bet_outcomes = [400, 100, -200]         # +$400, +$100, -$200\n",
        "two_bet_probabilities = [0.25, 0.5, 0.25]\n",
        "\n",
        "# Calculate expected utility for a single bet with loss aversion\n",
        "single_bet_utility_adjusted = np.sum([\n",
        "    p * adjusted_outcome(outcome) for p, outcome in zip(single_bet_probabilities, single_bet_outcomes)\n",
        "])\n",
        "\n",
        "# Calculate expected utility for two bets considered as a portfolio with loss aversion\n",
        "two_bet_utility_adjusted = np.sum([\n",
        "    p * adjusted_outcome(outcome) for p, outcome in zip(two_bet_probabilities, two_bet_outcomes)\n",
        "])\n",
        "\n",
        "print('Single bet utility                   ', single_bet_utility_adjusted)\n",
        "print('Two instances of the single gamble   ', single_bet_utility_adjusted*2)\n",
        "print('Two bets considered as a portfolio   ', two_bet_utility_adjusted)"
      ],
      "metadata": {
        "colab": {
          "base_uri": "https://localhost:8080/"
        },
        "id": "fMicC7QZZujo",
        "outputId": "55f95086-e18f-4412-b1e0-0ec465cb96aa"
      },
      "execution_count": null,
      "outputs": [
        {
          "output_type": "stream",
          "name": "stdout",
          "text": [
            "Single bet utility                    -25.0\n",
            "Two instances of the single gamble    -50.0\n",
            "Two bets considered as a portfolio    25.0\n"
          ]
        }
      ]
    },
    {
      "cell_type": "markdown",
      "source": [
        "\n",
        "\n",
        "---\n",
        "\n"
      ],
      "metadata": {
        "id": "OkqD9SZxZIHz"
      }
    },
    {
      "cell_type": "markdown",
      "source": [
        "### **Part 3:  Investors Expectations**"
      ],
      "metadata": {
        "id": "TOzhhflYhKaE"
      }
    },
    {
      "cell_type": "markdown",
      "source": [
        "Consider that all absolute asset pricing models are stated in terms of investors expectations:\n",
        "\n",
        "$p_t = E(m_{t+1} x_{t+1}),$\n",
        "\n",
        "where\n",
        "\n",
        "$p_t$ is the asset price\n",
        "\n",
        "$E$ denotes an expectation formed at time $t$\n",
        "\n",
        "$x_{t+1}$ is the asset payoff\n",
        "\n",
        "$m_{t+1}$ is the stochastic discount factor (accounting for risk).\n"
      ],
      "metadata": {
        "id": "OQ9E0Ts6hKOV"
      }
    },
    {
      "cell_type": "markdown",
      "source": [
        "    *Given the insights provided by behavioral finance, do expectations reflect rational expectations (on average)?*\n",
        "\n",
        "\n",
        "As result of the rational expectations hypothesis, the expected value of an asset's future payoff, $E(x_{t+1})$, aligns on average with the actual future payoff, $x_{t+1}$.\n",
        "\n",
        "Similarly, this implies that expected returns, $E(R_{t+1})$, on average, coincide with the actual realized returns, $R_{t+1}$.\n",
        "\n",
        "Subsequently, realized returns are almost always used to proxy expected returns in asset pricing models.\n"
      ],
      "metadata": {
        "id": "gxexacBDil7u"
      }
    },
    {
      "cell_type": "markdown",
      "source": [
        "    *What does the literature say?*\n",
        "\n",
        "Elton, E. J. (1999). Presidential address: Expected return, realized return, and asset pricing tests. The Journal of Finance, 54(4), 1199–1220.\n",
        "\n",
        "https://onlinelibrary.wiley.com/doi/abs/10.1111/0022-1082.00144\n",
        "\n",
        "Greenwood, R., & Shleifer, A. (2014). Expectations of returns and expected returns. The Review of Financial Studies, 27(3), 714–746.\n",
        "\n",
        "https://scholar.harvard.edu/files/shleifer/files/expectations_of_returns_public._feb_2014_print.pdf\n",
        "\n",
        "Adam, K., Marcet, A., & Beutel, J. (2017). Stock price booms and expected capital gains. American Economic Review, 107(8), 2352–2408.\n",
        "\n",
        "https://www.jstor.org/stable/44871765?seq=1"
      ],
      "metadata": {
        "id": "rLvCt9NClb4L"
      }
    },
    {
      "cell_type": "code",
      "source": [],
      "metadata": {
        "id": "SWtLYE8Ulsnj"
      },
      "execution_count": null,
      "outputs": []
    }
  ]
}